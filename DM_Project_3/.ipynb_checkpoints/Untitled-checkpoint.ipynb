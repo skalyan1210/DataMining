{
 "cells": [
  {
   "cell_type": "code",
   "execution_count": 1,
   "metadata": {},
   "outputs": [],
   "source": [
    "import pandas as pd\n",
    "import numpy as np\n"
   ]
  },
  {
   "cell_type": "code",
   "execution_count": 2,
   "metadata": {},
   "outputs": [
    {
     "name": "stdout",
     "output_type": "stream",
     "text": [
      "[[132 6.2 6.47 ... 14.14 45 0]\n",
      " [123 0.05 4.61 ... 2.78 16 0]\n",
      " [128 0.5 3.7 ... 22.73 28 0]\n",
      " ...\n",
      " [138 4.5 2.85 ... 24.89 56 1]\n",
      " [170 7.6 5.5 ... 6.17 54 1]\n",
      " [128 0.0 10.58 ... 14.66 48 0]]\n"
     ]
    }
   ],
   "source": [
    "dataset = pd.read_csv('project3_dataset2.txt', sep=\"\\t\", header=None)\n",
    "nrows = len(dataset)\n",
    "ncol = len(dataset.columns)\n",
    "dataset= np.array(dataset)\n",
    "print(dataset)"
   ]
  },
  {
   "cell_type": "code",
   "execution_count": 3,
   "metadata": {},
   "outputs": [],
   "source": [
    "def check_termination(data):\n",
    "    global ncol\n",
    "    if len(np.unique(data[:,ncol-1]))==1:\n",
    "        return True\n",
    "    else:\n",
    "        return False                                       "
   ]
  },
  {
   "cell_type": "code",
   "execution_count": 4,
   "metadata": {},
   "outputs": [],
   "source": [
    "def classify(data):\n",
    "    global ncol\n",
    "    classes, counts= np.unique(data[:,ncol-1], return_counts=True)\n",
    "    return classes[np.argmax(counts)]"
   ]
  },
  {
   "cell_type": "code",
   "execution_count": 5,
   "metadata": {},
   "outputs": [],
   "source": [
    "def get_splits(data):\n",
    "    global ncol\n",
    "    global FEATURE_TYPES\n",
    "    potential_splits = {}\n",
    "    for i in range(ncol-1):          # excluding the last column which is the label\n",
    "        unique_values = np.unique(data[:,i])\n",
    "        if FEATURE_TYPES[i] == \"continuous\":\n",
    "            potential_splits[i] = []\n",
    "            for index in range(len(unique_values)):\n",
    "                if index != 0:\n",
    "                    current_value = unique_values[index]\n",
    "                    previous_value = unique_values[index - 1]\n",
    "                    potential_split = (current_value + previous_value) / 2\n",
    "\n",
    "                    potential_splits[i].append(potential_split)\n",
    "       \n",
    "        else:\n",
    "            potential_splits[i] = unique_values\n",
    "    \n",
    "    return potential_splits"
   ]
  },
  {
   "cell_type": "code",
   "execution_count": 9,
   "metadata": {},
   "outputs": [],
   "source": [
    "def split_data(data, column, svalue):\n",
    "        left= data[data[:,column] <= svalue]\n",
    "        right= data[data[:,column] >  svalue]  \n",
    "        return left,right"
   ]
  },
  {
   "cell_type": "code",
   "execution_count": 10,
   "metadata": {},
   "outputs": [],
   "source": [
    "def change_feature(dataset):\n",
    "    global FEATURE_TYPES\n",
    "    for i in range(len(FEATURE_TYPES)):\n",
    "        if FEATURE_TYPES[i] == \"categorical\":\n",
    "            values = np.unique(dataset[:,i]).tolist()\n",
    "            for j in range(len(dataset[:,i])):\n",
    "                for k in values:\n",
    "                    if dataset[j][i] == k:\n",
    "                        dataset[j][i] = values.index(k)\n",
    "    return dataset"
   ]
  },
  {
   "cell_type": "code",
   "execution_count": 11,
   "metadata": {},
   "outputs": [],
   "source": [
    "def feature_types(df):\n",
    "    feature_types = []\n",
    "    for i in range(len(df[0])-1):\n",
    "            value = df[0][i]\n",
    "            if (isinstance(value, str)):\n",
    "                feature_types.append(\"categorical\")\n",
    "            else:\n",
    "                feature_types.append(\"continuous\")\n",
    "    return feature_types"
   ]
  },
  {
   "cell_type": "code",
   "execution_count": 12,
   "metadata": {},
   "outputs": [],
   "source": [
    "def gini(data):\n",
    "    global ncol\n",
    "    label_column = data[:,ncol-1]\n",
    "    classes, counts = np.unique(label_column, return_counts=True)\n",
    "    prob = counts / counts.sum()\n",
    "    gini = 1 - sum(np.power(prob,2))\n",
    "    return gini\n"
   ]
  },
  {
   "cell_type": "code",
   "execution_count": 13,
   "metadata": {},
   "outputs": [],
   "source": [
    "def overall_gini_func(left,right):\n",
    "    n = len(left) + len(right)\n",
    "    p_left = len(left) / n\n",
    "    p_right = len(right) / n\n",
    "    overall_gini =  (p_left * gini(left) \n",
    "                      + p_right *gini(right))\n",
    "    \n",
    "    return overall_gini"
   ]
  },
  {
   "cell_type": "code",
   "execution_count": 14,
   "metadata": {},
   "outputs": [],
   "source": [
    "def determine_best_split(data, potential_splits):\n",
    "    overall_gini = 1\n",
    "    for i in potential_splits:\n",
    "        for value in potential_splits[i]:\n",
    "            left,right = split_data(data, column = i,svalue = value)\n",
    "            current_overall_gini = overall_gini_func(left,right)\n",
    "            if current_overall_gini <= overall_gini:\n",
    "                overall_gini = current_overall_gini\n",
    "                best_split_column = i\n",
    "                best_split_value = value\n",
    "    return best_split_column, best_split_value"
   ]
  },
  {
   "cell_type": "code",
   "execution_count": null,
   "metadata": {},
   "outputs": [],
   "source": [
    "print(determine_best_split(dataset,get_splits(dataset)))"
   ]
  },
  {
   "cell_type": "code",
   "execution_count": 21,
   "metadata": {},
   "outputs": [],
   "source": [
    "def decision_tree(data, depth=0, min_samples=2, max_depth=5):\n",
    "    \n",
    "    if (check_termination(data)) or (len(data) < min_samples) or (depth == max_depth):\n",
    "        return classify(data)\n",
    "    else:    \n",
    "        depth+= 1\n",
    "        potential_splits = get_splits(data)\n",
    "        split_column, split_value = determine_best_split(data, potential_splits)\n",
    "        left,right = split_data(data, split_column, split_value)\n",
    "        condition = \"{} <= {}\".format(split_column, split_value)\n",
    "        sub_tree = {condition: []}\n",
    "        one = decision_tree(left, depth, min_samples, max_depth)\n",
    "        zero = decision_tree(right, depth, min_samples, max_depth)\n",
    "        if one == zero:\n",
    "            sub_tree = one\n",
    "        else:\n",
    "            sub_tree[condition].append(one)\n",
    "            sub_tree[condition].append(zero)\n",
    "        \n",
    "        return sub_tree"
   ]
  },
  {
   "cell_type": "code",
   "execution_count": 22,
   "metadata": {},
   "outputs": [
    {
     "name": "stdout",
     "output_type": "stream",
     "text": [
      "{'8 <= 50.5': [{'8 <= 30.5': [{'1 <= 0.51': [{'6 <= 18.48': [{'6 <= 18.175': [0, 1]}, 0]}, {'7 <= 11.105': [0, {'6 <= 25.38': [1, 0]}]}]}, {'5 <= 68.5': [{'5 <= 53.5': [0, {'6 <= 23.240000000000002': [1, 0]}]}, {'6 <= 23.990000000000002': [0, {'0 <= 191.0': [1, 0]}]}]}]}, {'4 <= 0.5': [{'1 <= 7.605': [{'2 <= 10.34': [0, 1]}, {'3 <= 28.955': [1, {'7 <= 7.33': [1, 0]}]}]}, {'2 <= 4.99': [{'3 <= 27.985': [{'0 <= 127.0': [0, 1]}, {'1 <= 4.15': [0, 1]}]}, {'0 <= 121.5': [{'5 <= 61.0': [0, 1]}, {'6 <= 38.875': [1, 0]}]}]}]}]}\n"
     ]
    }
   ],
   "source": [
    "FEATURE_TYPES = feature_types(dataset)\n",
    "COLUMN_NUMBERS = [i for i in range(len(dataset[0]))]\n",
    "dataset1 = change_feature(dataset)\n",
    "print(decision_tree(dataset1))\n"
   ]
  },
  {
   "cell_type": "code",
   "execution_count": null,
   "metadata": {},
   "outputs": [],
   "source": []
  },
  {
   "cell_type": "code",
   "execution_count": null,
   "metadata": {},
   "outputs": [],
   "source": []
  }
 ],
 "metadata": {
  "kernelspec": {
   "display_name": "Python 3",
   "language": "python",
   "name": "python3"
  },
  "language_info": {
   "codemirror_mode": {
    "name": "ipython",
    "version": 3
   },
   "file_extension": ".py",
   "mimetype": "text/x-python",
   "name": "python",
   "nbconvert_exporter": "python",
   "pygments_lexer": "ipython3",
   "version": "3.6.5"
  }
 },
 "nbformat": 4,
 "nbformat_minor": 2
}
