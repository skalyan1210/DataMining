{
 "cells": [
  {
   "cell_type": "code",
   "execution_count": 19,
   "metadata": {},
   "outputs": [],
   "source": [
    "import pandas as pd\n",
    "import numpy as np"
   ]
  },
  {
   "cell_type": "code",
   "execution_count": 20,
   "metadata": {},
   "outputs": [
    {
     "name": "stdout",
     "output_type": "stream",
     "text": [
      "[['sunny' 'hot' 'high' 'weak' 0]\n",
      " ['sunny' 'hot' 'high' 'strong' 0]\n",
      " ['overcast' 'hot' 'high' 'weak' 1]\n",
      " ['rain' 'mild' 'high' 'weak' 1]\n",
      " ['rain' 'cool' 'normal' 'weak' 1]\n",
      " ['rain' 'cool' 'normal' 'strong' 0]\n",
      " ['overcast' 'cool' 'normal' 'strong' 1]\n",
      " ['sunny' 'mild' 'high' 'weak' 0]\n",
      " ['sunny' 'cool' 'normal' 'weak' 1]\n",
      " ['rain' 'mild' 'normal' 'weak' 1]\n",
      " ['sunny' 'mild' 'normal' 'strong' 1]\n",
      " ['overcast' 'mild' 'high' 'strong' 1]\n",
      " ['overcast' 'hot' 'normal' 'weak' 1]\n",
      " ['rain' 'mild' 'high' 'strong' 0]]\n"
     ]
    }
   ],
   "source": [
    "dataset = pd.read_csv('project3_dataset4.txt', sep=\"\\t\", header=None)\n",
    "nrows = len(dataset)\n",
    "ncol = len(dataset.columns)\n",
    "dataset= np.array(dataset)"
   ]
  },
  {
   "cell_type": "code",
   "execution_count": 21,
   "metadata": {},
   "outputs": [],
   "source": [
    "def check_termination(data):\n",
    "    global ncol\n",
    "    if len(np.unique(data[:,ncol-1]))==1:\n",
    "        return True\n",
    "    else:\n",
    "        return False                                       "
   ]
  },
  {
   "cell_type": "code",
   "execution_count": 36,
   "metadata": {},
   "outputs": [],
   "source": [
    "def classify(data):\n",
    "    global ncol\n",
    "    classes, counts= np.unique(data[:,ncol-1], return_counts=True)\n",
    "    return classes[counts.argmax()]"
   ]
  },
  {
   "cell_type": "code",
   "execution_count": 23,
   "metadata": {},
   "outputs": [],
   "source": [
    "def Get_Acc_new(Y,target):\n",
    "    Y =np.array(Y)\n",
    "    target=np.array(target)\n",
    "    accuracy = 0.0\n",
    "    counter = 0\n",
    "    for i in range(len(Y)):\n",
    "            if Y[i] == target[i]:\n",
    "                counter= counter+1\n",
    "    accuracy = (float((counter)*100)/float(len(Y)))\n",
    "    return accuracy"
   ]
  },
  {
   "cell_type": "code",
   "execution_count": 24,
   "metadata": {},
   "outputs": [],
   "source": [
    "def get_splits(data):\n",
    "    global ncol\n",
    "    global FEATURE_TYPES\n",
    "    potential_splits = {}\n",
    "    for i in range(ncol-1):          # excluding the last column which is the label\n",
    "        unique_values = np.unique(data[:,i])\n",
    "        if FEATURE_TYPES[i] == \"continuous\":\n",
    "            potential_splits[i] = []\n",
    "            for j in range(1,len(unique_values)):\n",
    "                    potential_split = (unique_values[j] + unique_values[j- 1]) / 2\n",
    "                    potential_splits[i].append(potential_split)\n",
    "        else:\n",
    "            potential_splits[i] = unique_values\n",
    "    \n",
    "    return potential_splits"
   ]
  },
  {
   "cell_type": "code",
   "execution_count": 25,
   "metadata": {},
   "outputs": [],
   "source": [
    "def split_data(data, column, svalue):\n",
    "        left= data[data[:,column] <= svalue]\n",
    "        right= data[data[:,column] >  svalue]  \n",
    "        return left,right"
   ]
  },
  {
   "cell_type": "code",
   "execution_count": 26,
   "metadata": {},
   "outputs": [],
   "source": [
    "def change_feature(dataset):\n",
    "    global FEATURE_TYPES\n",
    "    for i in range(len(FEATURE_TYPES)):\n",
    "        if FEATURE_TYPES[i] == \"categorical\":\n",
    "            values = np.unique(dataset[:,i]).tolist()\n",
    "            for j in range(len(dataset[:,i])):\n",
    "                for k in values:\n",
    "                    if dataset[j][i] == k:\n",
    "                        dataset[j][i] = values.index(k)\n",
    "    return dataset"
   ]
  },
  {
   "cell_type": "code",
   "execution_count": 27,
   "metadata": {},
   "outputs": [],
   "source": [
    "def feature_types(df):\n",
    "    feature_types = []\n",
    "    for i in range(len(df[0])-1):\n",
    "            value = df[0][i]\n",
    "            if (isinstance(value, str)):\n",
    "                feature_types.append(\"categorical\")\n",
    "            else:\n",
    "                feature_types.append(\"continuous\")\n",
    "    return feature_types"
   ]
  },
  {
   "cell_type": "code",
   "execution_count": 28,
   "metadata": {},
   "outputs": [],
   "source": [
    "def gini(data):\n",
    "    global ncol\n",
    "    classes, counts = np.unique(data[:,ncol-1], return_counts=True)\n",
    "    prob = counts / counts.sum()\n",
    "    gini = 1 - np.sum(np.power(prob,2))\n",
    "    return gini\n"
   ]
  },
  {
   "cell_type": "code",
   "execution_count": 29,
   "metadata": {},
   "outputs": [],
   "source": [
    "def overall_gini_func(left,right):\n",
    "    n = len(left) + len(right)\n",
    "    p_left = len(left) / n\n",
    "    p_right = len(right) / n\n",
    "    overall_gini =  (p_left * gini(left) \n",
    "                      + p_right *gini(right))\n",
    "    \n",
    "    return overall_gini"
   ]
  },
  {
   "cell_type": "code",
   "execution_count": 30,
   "metadata": {},
   "outputs": [],
   "source": [
    "def determine_best_split(data, potential_splits):\n",
    "    overall_gini = 1\n",
    "    for i in range(len(data[0])-1):\n",
    "        for value in potential_splits[i]:\n",
    "            left,right = split_data(data, column = i,svalue = value)\n",
    "            current_overall_gini = overall_gini_func(left,right)\n",
    "            if current_overall_gini <= overall_gini:\n",
    "                overall_gini = current_overall_gini\n",
    "                best_split_column = i\n",
    "                best_split_value = value\n",
    "    return best_split_column, best_split_value"
   ]
  },
  {
   "cell_type": "code",
   "execution_count": 31,
   "metadata": {},
   "outputs": [],
   "source": [
    "def best_split(data):\n",
    "    overall_gini = 1\n",
    "    global means \n",
    "    for i in range(len(data[0])-1):\n",
    "            left,right = split_data(data, column = i,svalue = means[i])\n",
    "            current_overall_gini = overall_gini_func(left,right)\n",
    "            if current_overall_gini <= overall_gini:\n",
    "                overall_gini = current_overall_gini\n",
    "                best_split_column = i\n",
    "                best_split_value = means[i]\n",
    "    return best_split_column, best_split_value"
   ]
  },
  {
   "cell_type": "code",
   "execution_count": 14,
   "metadata": {},
   "outputs": [
    {
     "ename": "NameError",
     "evalue": "name 'FEATURE_TYPES' is not defined",
     "output_type": "error",
     "traceback": [
      "\u001b[0;31m---------------------------------------------------------------------------\u001b[0m",
      "\u001b[0;31mNameError\u001b[0m                                 Traceback (most recent call last)",
      "\u001b[0;32m<ipython-input-14-141e5ed1bd46>\u001b[0m in \u001b[0;36m<module>\u001b[0;34m()\u001b[0m\n\u001b[0;32m----> 1\u001b[0;31m \u001b[0mprint\u001b[0m\u001b[0;34m(\u001b[0m\u001b[0mdetermine_best_split\u001b[0m\u001b[0;34m(\u001b[0m\u001b[0mdataset\u001b[0m\u001b[0;34m,\u001b[0m\u001b[0mget_splits\u001b[0m\u001b[0;34m(\u001b[0m\u001b[0mdataset\u001b[0m\u001b[0;34m)\u001b[0m\u001b[0;34m)\u001b[0m\u001b[0;34m)\u001b[0m\u001b[0;34m\u001b[0m\u001b[0m\n\u001b[0m",
      "\u001b[0;32m<ipython-input-6-a91e12e1a93a>\u001b[0m in \u001b[0;36mget_splits\u001b[0;34m(data)\u001b[0m\n\u001b[1;32m      5\u001b[0m     \u001b[0;32mfor\u001b[0m \u001b[0mi\u001b[0m \u001b[0;32min\u001b[0m \u001b[0mrange\u001b[0m\u001b[0;34m(\u001b[0m\u001b[0mncol\u001b[0m\u001b[0;34m-\u001b[0m\u001b[0;36m1\u001b[0m\u001b[0;34m)\u001b[0m\u001b[0;34m:\u001b[0m          \u001b[0;31m# excluding the last column which is the label\u001b[0m\u001b[0;34m\u001b[0m\u001b[0m\n\u001b[1;32m      6\u001b[0m         \u001b[0munique_values\u001b[0m \u001b[0;34m=\u001b[0m \u001b[0mnp\u001b[0m\u001b[0;34m.\u001b[0m\u001b[0munique\u001b[0m\u001b[0;34m(\u001b[0m\u001b[0mdata\u001b[0m\u001b[0;34m[\u001b[0m\u001b[0;34m:\u001b[0m\u001b[0;34m,\u001b[0m\u001b[0mi\u001b[0m\u001b[0;34m]\u001b[0m\u001b[0;34m)\u001b[0m\u001b[0;34m\u001b[0m\u001b[0m\n\u001b[0;32m----> 7\u001b[0;31m         \u001b[0;32mif\u001b[0m \u001b[0mFEATURE_TYPES\u001b[0m\u001b[0;34m[\u001b[0m\u001b[0mi\u001b[0m\u001b[0;34m]\u001b[0m \u001b[0;34m==\u001b[0m \u001b[0;34m\"continuous\"\u001b[0m\u001b[0;34m:\u001b[0m\u001b[0;34m\u001b[0m\u001b[0m\n\u001b[0m\u001b[1;32m      8\u001b[0m             \u001b[0mpotential_splits\u001b[0m\u001b[0;34m[\u001b[0m\u001b[0mi\u001b[0m\u001b[0;34m]\u001b[0m \u001b[0;34m=\u001b[0m \u001b[0;34m[\u001b[0m\u001b[0;34m]\u001b[0m\u001b[0;34m\u001b[0m\u001b[0m\n\u001b[1;32m      9\u001b[0m             \u001b[0;32mfor\u001b[0m \u001b[0mj\u001b[0m \u001b[0;32min\u001b[0m \u001b[0mrange\u001b[0m\u001b[0;34m(\u001b[0m\u001b[0;36m1\u001b[0m\u001b[0;34m,\u001b[0m\u001b[0mlen\u001b[0m\u001b[0;34m(\u001b[0m\u001b[0munique_values\u001b[0m\u001b[0;34m)\u001b[0m\u001b[0;34m)\u001b[0m\u001b[0;34m:\u001b[0m\u001b[0;34m\u001b[0m\u001b[0m\n",
      "\u001b[0;31mNameError\u001b[0m: name 'FEATURE_TYPES' is not defined"
     ]
    }
   ],
   "source": [
    "print(determine_best_split(dataset,get_splits(dataset)))"
   ]
  },
  {
   "cell_type": "code",
   "execution_count": 32,
   "metadata": {},
   "outputs": [],
   "source": [
    "def decision_tree(data, depth=0, min_samples=2, max_depth=5):\n",
    "    \n",
    "    if (check_termination(data)) or (len(data) < min_samples) or (depth == max_depth):\n",
    "        return classify(data)\n",
    "    else:    \n",
    "        depth+= 1\n",
    "        potential_splits = get_splits(data)\n",
    "        split_column, split_value = determine_best_split(data, potential_splits)\n",
    "        left,right = split_data(data, split_column, split_value)\n",
    "        condition = \"{} <= {}\".format(split_column, split_value)\n",
    "        sub_tree = {condition: []}\n",
    "        one = decision_tree(left, depth, min_samples, max_depth)\n",
    "        zero = decision_tree(right, depth, min_samples, max_depth)\n",
    "        if one == zero:\n",
    "            sub_tree = one\n",
    "        else:\n",
    "            sub_tree[condition].append(one)\n",
    "            sub_tree[condition].append(zero)\n",
    "        \n",
    "        return sub_tree"
   ]
  },
  {
   "cell_type": "code",
   "execution_count": 33,
   "metadata": {},
   "outputs": [],
   "source": [
    "def decision_tree_new(data, depth=0, min_samples=2, max_depth=5):\n",
    "    global means\n",
    "    if (check_termination(data)) or (len(data) < min_samples) or (depth == max_depth):\n",
    "        return classify(data)\n",
    "    else:    \n",
    "        depth+= 1\n",
    "        #potential_splits = get_splits(data)\n",
    "        split_column, split_value = best_split(data)\n",
    "        left,right = split_data(data, split_column, split_value)\n",
    "        condition = \"{} <= {}\".format(split_column, split_value)\n",
    "        sub_tree = {condition: []}\n",
    "        one = decision_tree(left, depth, min_samples, max_depth)\n",
    "        zero = decision_tree(right, depth, min_samples, max_depth)\n",
    "        if one == zero:\n",
    "            sub_tree = one\n",
    "        else:\n",
    "            sub_tree[condition].append(one)\n",
    "            sub_tree[condition].append(zero)\n",
    "        \n",
    "        return sub_tree"
   ]
  },
  {
   "cell_type": "code",
   "execution_count": 37,
   "metadata": {},
   "outputs": [
    {
     "name": "stdout",
     "output_type": "stream",
     "text": [
      "['categorical', 'categorical', 'categorical', 'categorical']\n",
      "[0, 0, 0, 0]\n",
      "{'0 <= overcast': [1, {'2 <= high': [{'0 <= rain': [{'3 <= strong': [0, 1]}, 0]}, {'3 <= strong': [{'1 <= cool': [0, 1]}, 1]}]}]}\n"
     ]
    }
   ],
   "source": [
    "FEATURE_TYPES = feature_types(dataset)\n",
    "print(FEATURE_TYPES)\n",
    "COLUMN_NUMBERS = [i for i in range(len(dataset[0]))]\n",
    "#dataset1 = change_feature(dataset)\n",
    "means =[]\n",
    "for i in range(len(dataset1[0])-1):\n",
    "    sum_r=0\n",
    "    if FEATURE_TYPES[i] == \"continuous\":\n",
    "        for j in dataset[:,i]:\n",
    "            sum_r = sum_r+j\n",
    "        avg = sum_r/len(dataset1)\n",
    "        means.append(avg)\n",
    "    else:\n",
    "        means.append(0)\n",
    "print(means)      \n",
    "tree = decision_tree(dataset)\n",
    "print(tree)"
   ]
  },
  {
   "cell_type": "code",
   "execution_count": null,
   "metadata": {},
   "outputs": [],
   "source": [
    "def classify_example(example, tree):\n",
    "    question = list(tree.keys())[0]\n",
    "    feature_name, comparison_operator, value = question.split(\" \")\n",
    "    # ask question\n",
    "    if comparison_operator == \"<=\":\n",
    "        if example[int(feature_name)] <= float(value):\n",
    "            answer = tree[question][0]\n",
    "        else:\n",
    "            answer = tree[question][1]\n",
    "\n",
    "    if not isinstance(answer, dict):\n",
    "        return answer\n",
    "    else:\n",
    "        residual_tree = answer\n",
    "        return classify_example(example, residual_tree)"
   ]
  },
  {
   "cell_type": "code",
   "execution_count": null,
   "metadata": {},
   "outputs": [],
   "source": [
    "example = dataset1\n",
    "classes1 =[]\n",
    "for i in example:\n",
    "    classes1.append(classify_example(i,tree))  \n",
    "print(classes1)"
   ]
  },
  {
   "cell_type": "code",
   "execution_count": null,
   "metadata": {},
   "outputs": [],
   "source": []
  },
  {
   "cell_type": "code",
   "execution_count": null,
   "metadata": {},
   "outputs": [],
   "source": [
    "Get_Acc_new(classes1,dataset[:,ncol-1])"
   ]
  },
  {
   "cell_type": "code",
   "execution_count": null,
   "metadata": {},
   "outputs": [],
   "source": []
  }
 ],
 "metadata": {
  "kernelspec": {
   "display_name": "Python 3",
   "language": "python",
   "name": "python3"
  },
  "language_info": {
   "codemirror_mode": {
    "name": "ipython",
    "version": 3
   },
   "file_extension": ".py",
   "mimetype": "text/x-python",
   "name": "python",
   "nbconvert_exporter": "python",
   "pygments_lexer": "ipython3",
   "version": "3.6.5"
  }
 },
 "nbformat": 4,
 "nbformat_minor": 2
}
